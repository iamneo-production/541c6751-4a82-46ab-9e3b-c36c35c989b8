{
  "nbformat": 4,
  "nbformat_minor": 0,
  "metadata": {
    "colab": {
      "provenance": []
    },
    "kernelspec": {
      "name": "python3",
      "display_name": "Python 3"
    },
    "language_info": {
      "name": "python"
    }
  },
  "cells": [
    {
      "cell_type": "code",
      "execution_count": null,
      "metadata": {
        "id": "O9Ppt5rThSPx"
      },
      "outputs": [],
      "source": [
        "# Install Necessary Libraries\n",
        "!pip install pandas\n",
        "!pip install numpy\n",
        "!pip install -U scikit-learn \n",
        "!pip instal matplotlib\n",
        "!pip install scalecast --use-deprecated=backtrack-on-build-failures\n",
        "#Loading up the libraries\n",
        "import sklearn\n",
        "import pandas as pd\n",
        "import numpy as np\n",
        "import seaborn as sns\n",
        "import matplotlib\n",
        "import matplotlib.ticker as ticker\n",
        "import matplotlib.pyplot as plt\n",
        "from scalecast.Forecaster import Forecaster\n",
        "from scalecast.MVForecaster import MVForecaster\n",
        "from scalecast.multiseries import export_model_summaries\n",
        "from scalecast import GridGenerator\n",
        "from scalecast.Forecaster import Forecaster\n",
        "from scalecast.MVForecaster import MVForecaster\n",
        "from scalecast.multiseries import export_model_summaries\n",
        "from scalecast import GridGenerator\n",
        "from sklearn.ensemble import BaggingRegressor\n",
        "from sklearn.neural_network import MLPRegressor"
      ]
    },
    {
      "cell_type": "code",
      "source": [
        "def multi_variate_forecasting(district):\n",
        "\n",
        "  df = pd.read_csv('cleaned_data/{}-cleaned.csv'.format(district))\n",
        "  header = df.columns\n",
        "  df = df.set_index(['Date'])\n",
        "  df.columns = list(['District','Rainfall', 'temp_min', 'temp_max', 'humidity_min',\n",
        "        'Humidity_max', 'wind_speed_min', 'wind_speed_max'])\n",
        "  \n",
        "  models = ('knn','mlr','ridge') #The final 3 models that we stuck with.\n",
        "  GridGenerator.get_example_grids()\n",
        "  GridGenerator.get_mv_grids() #For Grid Search CV\n",
        "\n",
        "  #Load the Forecaster objects\n",
        "  f_temp_max = Forecaster(y=df['temp_max'],current_dates = df.index)\n",
        "  f_temp_min = Forecaster(y=df['temp_min'],current_dates = df.index)\n",
        "  f_hum_min = Forecaster(y=df['humidity_min'],current_dates = df.index)\n",
        "\n",
        "  for f in (f_temp_max,f_temp_min,f_hum_min):\n",
        "    f.generate_future_dates(400) #How many future values we would need\n",
        "    f.set_test_length(.2) #20% of the data goes for testing\n",
        "    f.set_validation_length(100) #100 samples goes for validation set for evaluating the best hyperparameters\n",
        "\n",
        "    #Adding in seasonal terms because of time-series data.\n",
        "    f.add_seasonal_regressors('quarter','week','dayofyear',raw=False,sincos=True) \n",
        "    f.add_seasonal_regressors('dayofweek','is_leap_year','week','month',raw=False,dummy=True,drop_first=True)\n",
        "    f.add_seasonal_regressors('year')\n",
        "    f.add_time_trend()\n",
        "    f.add_cycle(365) #Adds a regressor that acts as a seasonal cycle every 365 days.\n",
        "    f.add_ar_terms(100) #Add 100 lags values as features\n",
        "\n",
        "    #Initialize the multi-variate-forecaster object\n",
        "    mvf = MVForecaster(f_temp_max,f_temp_min,f_hum_min,names=['temp_max','temp_min','humidity_min']) # init the mvf object\n",
        "    mvf.set_test_length(0.2)\n",
        "    mvf.set_validation_length(100)\n",
        "    # how to optimize on one series\n",
        "    mvf.set_optimize_on('temp_max')\n",
        "    #mvf.set_optimize_on('mean')\n",
        "    \n",
        "    #Run the model\n",
        "    mvf.tune_test_forecast(models)\n",
        "    mvf.set_best_model(determine_best_by='LevelTestSetMAPE') #Use the model that has the best MAPE score.\n",
        "\n",
        "    #Plot the max-temp predictions for all the models\n",
        "    mvf.plot_test_set(series='temp_max',put_best_on_top=True)\n",
        "    plt.title('Conventional Multivariate Test-set Results',size=16)\n",
        "    plt.show()\n",
        "\n",
        "\n",
        "    #Export the model data into a list\n",
        "    pd.options.display.max_colwidth = 100\n",
        "    results = mvf.export('model_summaries')\n",
        "    print(results[\n",
        "        [\n",
        "            'ModelNickname',\n",
        "            'Series',\n",
        "            'HyperParams',\n",
        "            'LevelTestSetMAPE',\n",
        "            'LevelTestSetR2',\n",
        "            'InSampleMAPE',\n",
        "            'InSampleR2',\n",
        "            'Lags'\n",
        "        ]\n",
        "    ].to_markdown())\n",
        "\n",
        "    #Plot forecast for max temperature\n",
        "    mvf.plot(series='temp_max',models=['mlr'])\n",
        "    plt.title('MLR Forecast - Max. Temperature',size=16)\n",
        "    plt.show()\n",
        "\n",
        "    #Plot forecast for all the series\n",
        "    mvf.plot(models='mlr')\n",
        "    plt.title('MLR - Multi Variate Forecasting ',size=16)\n",
        "    plt.show()\n",
        "\n",
        "    #Export the model data and model predictions into an excel file for furthur use.\n",
        "    mvf.export(dfs=['model_summaries', 'lvl_test_set_predictions', 'lvl_fcsts'],models=['knn','mlr','ridge'],to_excel=True,excel_name='3model-{}-max-temp.xlsx'.format(district),out_path='./model_results/')"
      ],
      "metadata": {
        "id": "gi5GVTwuhweN"
      },
      "execution_count": null,
      "outputs": []
    },
    {
      "cell_type": "code",
      "source": [
        "multi_variate_forecasting('Adilabad')"
      ],
      "metadata": {
        "id": "AiRWg46MYwpS"
      },
      "execution_count": null,
      "outputs": []
    },
    {
      "cell_type": "code",
      "source": [
        "multi_variate_forecasting('Karimnagar')"
      ],
      "metadata": {
        "id": "AoHWTOnsYyFH"
      },
      "execution_count": null,
      "outputs": []
    },
    {
      "cell_type": "code",
      "source": [
        "multi_variate_forecasting('Warangal')"
      ],
      "metadata": {
        "id": "iBvCHTVRYygx"
      },
      "execution_count": null,
      "outputs": []
    },
    {
      "cell_type": "code",
      "source": [
        "multi_variate_forecasting('Khammam')"
      ],
      "metadata": {
        "id": "0A2UeIlOYyut"
      },
      "execution_count": null,
      "outputs": []
    },
    {
      "cell_type": "code",
      "source": [
        "multi_variate_forecasting('Nizamabad')"
      ],
      "metadata": {
        "id": "3XunyE3DYy5w"
      },
      "execution_count": null,
      "outputs": []
    },
    {
      "cell_type": "markdown",
      "source": [
        "#AQI"
      ],
      "metadata": {
        "id": "6tDTYotdcn50"
      }
    },
    {
      "cell_type": "code",
      "source": [
        "def plot_test_export_summaries(f):\n",
        "    \"\"\" exports the relevant statisitcal information and displays a plot of the test-set results for the last model run\n",
        "    \"\"\"\n",
        "    f.plot_test_set(models=f.estimator,ci=True)\n",
        "    plt.title(f'{f.estimator} test-set results',size=16)\n",
        "    plt.show()\n",
        "    return f.export('model_summaries',determine_best_by='TestSetMAPE')[\n",
        "        [\n",
        "            'ModelNickname',\n",
        "            'HyperParams',\n",
        "            'TestSetMAPE',\n",
        "            'TestSetR2',\n",
        "            'InSampleMAPE',\n",
        "            'InSampleR2'\n",
        "        ]\n",
        "    ]\n",
        "\n",
        "def aqi_modelling(district):\n",
        "  #Data-Preprocessing\n",
        "  df = pd.read_csv('aqi_data/{}-aqi.csv'.format(district))\n",
        "  df[\"Period\"] = df[\"Month\"].astype(str) + \" \" + df[\"Year\"].astype(str) #adding month and year as a single column\n",
        "  df = df.drop(columns=[\"Month\",\"Year\"]) #removing those individual columns\n",
        "  y = df.set_index(['Period'])\n",
        "  y.index = pd.to_datetime(y.index)\n",
        "\n",
        "  #Set the forecaster\n",
        "  f=Forecaster(y=y['AQI'],current_dates=y.index,metrics=['mae','mape','r2'])\n",
        "\n",
        "  #Plot the original series\n",
        "  plt.title('Original Series',size=16)\n",
        "  plt.plot(y.index,y.AQI)\n",
        "  plt.show()\n",
        "\n",
        "  #Set forecaster parameters\n",
        "  fcst_length = 12 #Forecasting for a year ahead. 12 months.\n",
        "  f.generate_future_dates(fcst_length)\n",
        "  f.set_test_length(20) #Test length is 20 samples\n",
        "  f.set_validation_length(6) #Validation is 6 samples\n",
        "  f.set_validation_metric('mape')\n",
        "  f.eval_cis() # tell the object to build confidence intervals for all models\n",
        "  f.add_ar_terms(6) #Add 6 lags\n",
        "  f.add_seasonal_regressors('quarter',raw=False,sincos=True) #Quaterly \n",
        "  f.add_seasonal_regressors('month',raw=False,dummy=True,drop_first=True) #Monthly\n",
        "  f.add_seasonal_regressors('year') #Yearly\n",
        "\n",
        "  #MLR\n",
        "  f.set_estimator('mlr')\n",
        "  f.manual_forecast()\n",
        "  plot_test_export_summaries(f)\n",
        "\n",
        "  #Ridge Regression\n",
        "  f.set_estimator('ridge')\n",
        "  lasso_grid = {'alpha':np.linspace(0,50,300)}\n",
        "  f.ingest_grid(lasso_grid)\n",
        "  f.cross_validate(k=3)\n",
        "  f.auto_forecast()\n",
        "  plot_test_export_summaries(f)\n",
        "\n",
        "  #SGD Regressor\n",
        "  f.set_estimator('sgd')\n",
        "  f.cross_validate(k=3)\n",
        "  f.auto_forecast()\n",
        "  plot_test_export_summaries(f)\n",
        "  \n",
        "  #Bagging\n",
        "  f.add_sklearn_estimator(BaggingRegressor,'bagging')\n",
        "  f.set_estimator('bagging')\n",
        "  f.manual_forecast(\n",
        "      base_estimator = MLPRegressor(\n",
        "          hidden_layer_sizes=(25,25,25)\n",
        "          ,solver='lbfgs'\n",
        "      ),\n",
        "      max_samples = 0.9,\n",
        "      max_features = 0.5,\n",
        "  )\n",
        "  plot_test_export_summaries(f)\n",
        "\n",
        "  #Export the model data into a list\n",
        "  results = f.export('model_summaries',determine_best_by='TestSetMAPE')\n",
        "  print(results[\n",
        "        [\n",
        "            'ModelNickname',\n",
        "            'HyperParams',\n",
        "            'TestSetMAPE',\n",
        "            'TestSetR2',\n",
        "            'InSampleMAPE',\n",
        "            'InSampleR2'\n",
        "        ]\n",
        "    ].to_markdown())\n",
        "  #Export the model data and model predictions into an excel file for furthur use.\n",
        "  f.export(dfs=['model_summaries', 'lvl_test_set_predictions', 'lvl_fcsts'],models=['mlr','ridge','sgd','bagging'],to_excel=True,excel_name='{}-aqi-pred.xlsx'.format(district),out_path='./model_results')"
      ],
      "metadata": {
        "id": "btFYE8JtdvEu"
      },
      "execution_count": null,
      "outputs": []
    },
    {
      "cell_type": "code",
      "source": [
        "aqi_modelling('Adilabad')"
      ],
      "metadata": {
        "id": "zAxtPROQcnHS"
      },
      "execution_count": null,
      "outputs": []
    },
    {
      "cell_type": "code",
      "source": [
        "aqi_modelling('Nizamabad')"
      ],
      "metadata": {
        "id": "jMJSJ9ChTa_V"
      },
      "execution_count": null,
      "outputs": []
    },
    {
      "cell_type": "code",
      "source": [
        "aqi_modelling('Warangal')"
      ],
      "metadata": {
        "id": "XXyyz1d5ZR63"
      },
      "execution_count": null,
      "outputs": []
    },
    {
      "cell_type": "code",
      "source": [
        "aqi_modelling('Khammam')"
      ],
      "metadata": {
        "id": "SRDMrwIrZSF7"
      },
      "execution_count": null,
      "outputs": []
    },
    {
      "cell_type": "code",
      "source": [
        "aqi_modelling('Karimnagar')"
      ],
      "metadata": {
        "id": "jvZgzB7wZSSr"
      },
      "execution_count": null,
      "outputs": []
    }
  ]
}